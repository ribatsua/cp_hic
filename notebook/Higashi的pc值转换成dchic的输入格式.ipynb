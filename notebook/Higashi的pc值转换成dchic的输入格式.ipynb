{
 "cells": [
  {
   "cell_type": "code",
   "execution_count": 2,
   "metadata": {},
   "outputs": [
    {
     "name": "stdout",
     "output_type": "stream",
     "text": [
      "Astro\n",
      "路径 /home/dchic/dcHiC/snm3c250k/Astro_pca/intra_pca/Astro_mat 已存在。\n"
     ]
    },
    {
     "name": "stderr",
     "output_type": "stream",
     "text": [
      "100%|██████████| 2/2 [00:00<00:00, 58.91it/s]\n"
     ]
    },
    {
     "name": "stdout",
     "output_type": "stream",
     "text": [
      "写入完成： Astro\n",
      "MP\n",
      "路径 /home/dchic/dcHiC/snm3c250k/MP_pca/intra_pca/MP_mat 不存在，已创建。\n"
     ]
    },
    {
     "name": "stderr",
     "output_type": "stream",
     "text": [
      "100%|██████████| 2/2 [00:00<00:00, 105.42it/s]\n"
     ]
    },
    {
     "name": "stdout",
     "output_type": "stream",
     "text": [
      "写入完成： MP\n",
      "L23\n",
      "路径 /home/dchic/dcHiC/snm3c250k/L23_pca/intra_pca/L23_mat 不存在，已创建。\n"
     ]
    },
    {
     "name": "stderr",
     "output_type": "stream",
     "text": [
      "100%|██████████| 2/2 [00:00<00:00, 97.60it/s]\n"
     ]
    },
    {
     "name": "stdout",
     "output_type": "stream",
     "text": [
      "写入完成： L23\n",
      "OPC\n",
      "路径 /home/dchic/dcHiC/snm3c250k/OPC_pca/intra_pca/OPC_mat 不存在，已创建。\n"
     ]
    },
    {
     "name": "stderr",
     "output_type": "stream",
     "text": [
      "100%|██████████| 2/2 [00:00<00:00, 106.68it/s]\n"
     ]
    },
    {
     "name": "stdout",
     "output_type": "stream",
     "text": [
      "写入完成： OPC\n",
      "L4\n",
      "路径 /home/dchic/dcHiC/snm3c250k/L4_pca/intra_pca/L4_mat 不存在，已创建。\n"
     ]
    },
    {
     "name": "stderr",
     "output_type": "stream",
     "text": [
      "100%|██████████| 2/2 [00:00<00:00, 103.23it/s]"
     ]
    },
    {
     "name": "stdout",
     "output_type": "stream",
     "text": [
      "写入完成： L4\n",
      "Pvalb\n",
      "路径 /home/dchic/dcHiC/snm3c250k/Pvalb_pca/intra_pca/Pvalb_mat 不存在，已创建。\n"
     ]
    },
    {
     "name": "stderr",
     "output_type": "stream",
     "text": [
      "\n",
      "100%|██████████| 2/2 [00:00<00:00, 100.76it/s]\n"
     ]
    },
    {
     "name": "stdout",
     "output_type": "stream",
     "text": [
      "写入完成： Pvalb\n",
      "ODC\n",
      "路径 /home/dchic/dcHiC/snm3c250k/ODC_pca/intra_pca/ODC_mat 不存在，已创建。\n"
     ]
    },
    {
     "name": "stderr",
     "output_type": "stream",
     "text": [
      "100%|██████████| 2/2 [00:00<00:00, 98.25it/s]\n"
     ]
    },
    {
     "name": "stdout",
     "output_type": "stream",
     "text": [
      "写入完成： ODC\n",
      "Vip\n",
      "路径 /home/dchic/dcHiC/snm3c250k/Vip_pca/intra_pca/Vip_mat 不存在，已创建。\n"
     ]
    },
    {
     "name": "stderr",
     "output_type": "stream",
     "text": [
      "100%|██████████| 2/2 [00:00<00:00, 93.99it/s]\n"
     ]
    },
    {
     "name": "stdout",
     "output_type": "stream",
     "text": [
      "写入完成： Vip\n",
      "MG\n",
      "路径 /home/dchic/dcHiC/snm3c250k/MG_pca/intra_pca/MG_mat 不存在，已创建。\n"
     ]
    },
    {
     "name": "stderr",
     "output_type": "stream",
     "text": [
      "100%|██████████| 2/2 [00:00<00:00, 103.95it/s]\n"
     ]
    },
    {
     "name": "stdout",
     "output_type": "stream",
     "text": [
      "写入完成： MG\n",
      "Endo\n",
      "路径 /home/dchic/dcHiC/snm3c250k/Endo_pca/intra_pca/Endo_mat 不存在，已创建。\n"
     ]
    },
    {
     "name": "stderr",
     "output_type": "stream",
     "text": [
      "100%|██████████| 2/2 [00:00<00:00, 114.05it/s]\n"
     ]
    },
    {
     "name": "stdout",
     "output_type": "stream",
     "text": [
      "写入完成： Endo\n",
      "Sst\n",
      "路径 /home/dchic/dcHiC/snm3c250k/Sst_pca/intra_pca/Sst_mat 不存在，已创建。\n"
     ]
    },
    {
     "name": "stderr",
     "output_type": "stream",
     "text": [
      "100%|██████████| 2/2 [00:00<00:00, 100.73it/s]\n"
     ]
    },
    {
     "name": "stdout",
     "output_type": "stream",
     "text": [
      "写入完成： Sst\n",
      "L6\n",
      "路径 /home/dchic/dcHiC/snm3c250k/L6_pca/intra_pca/L6_mat 不存在，已创建。\n"
     ]
    },
    {
     "name": "stderr",
     "output_type": "stream",
     "text": [
      "100%|██████████| 2/2 [00:00<00:00, 100.94it/s]\n"
     ]
    },
    {
     "name": "stdout",
     "output_type": "stream",
     "text": [
      "写入完成： L6\n",
      "L5\n",
      "路径 /home/dchic/dcHiC/snm3c250k/L5_pca/intra_pca/L5_mat 不存在，已创建。\n"
     ]
    },
    {
     "name": "stderr",
     "output_type": "stream",
     "text": [
      "100%|██████████| 2/2 [00:00<00:00, 97.79it/s]\n"
     ]
    },
    {
     "name": "stdout",
     "output_type": "stream",
     "text": [
      "写入完成： L5\n",
      "Ndnf\n",
      "路径 /home/dchic/dcHiC/snm3c250k/Ndnf_pca/intra_pca/Ndnf_mat 不存在，已创建。\n"
     ]
    },
    {
     "name": "stderr",
     "output_type": "stream",
     "text": [
      "100%|██████████| 2/2 [00:00<00:00, 105.86it/s]"
     ]
    },
    {
     "name": "stdout",
     "output_type": "stream",
     "text": [
      "写入完成： Ndnf\n"
     ]
    },
    {
     "name": "stderr",
     "output_type": "stream",
     "text": [
      "\n"
     ]
    }
   ],
   "source": [
    "#从higashi得到prebulk矩阵的pc值\n",
    "\n",
    "###\n",
    "#将higashi得到的compartments_pc值转为dchic需要的格式\n",
    "# chr\tstart\tend\tindex\tPC\n",
    "# chr1\t3000000\t3250000\t13\t19.0824256954153\n",
    "# chr1\t3250000\t3500000\t14\t17.3185143668633\n",
    "# chr1\t3500000\t3750000\t15\t17.1426584342794\n",
    "import h5py\n",
    "import pandas as pd\n",
    "from tqdm import tqdm\n",
    "import pickle\n",
    "\n",
    "file_path = '/home/dataset/snm3c/250k/raw/test_chr1_2_compartment.hdf5'\n",
    "f1 = h5py.File(file_path, 'r')  # 使用 'r' 模式打开文件以进行只读操作\n",
    "f1.keys()\n",
    "data = pd.DataFrame()\n",
    "data['chrom'] = [chrom.decode('utf-8') for chrom in f1['compartment_raw']['bin']['chrom']]\n",
    "data['start'] = f1['compartment_raw']['bin']['start']\n",
    "data['end'] = f1['compartment_raw']['bin']['end']\n",
    "\n",
    "\n",
    "import os\n",
    "\n",
    "\n",
    "chrom_list=[\"chr1\",\"chr2\"]\n",
    "\n",
    "# data_dir=\"/home/python/higashi/dcpc/cortex/\"\n",
    "data_dir=\"/home/dchic/dcHiC/snm3c250k/\"\n",
    "cell_type_info=pickle.load(open('/home/dataset/snm3c/250k/raw/label_info.pickle', \"rb\"))\n",
    "cell_type=cell_type_info['cell_type']\n",
    "\n",
    "for j in list(set(cell_type)):\n",
    "# for i in range(3):\n",
    "    print(j)\n",
    "    path = data_dir+j+\"_pca/\"+'intra_pca'+'/'+j+'_mat'\n",
    "\n",
    "    # 使用os.path.exists()检查路径是否存在\n",
    "    if not os.path.exists(path):\n",
    "        # 如果路径不存在，创建它\n",
    "        os.makedirs(path)\n",
    "        print(f\"路径 {path} 不存在，已创建。\")\n",
    "    else:\n",
    "        print(f\"路径 {path} 已存在。\")\n",
    "    pc1=f1['compartment_presudo_bulk'][j][()]\n",
    "    # pc2=f1['compartment_bulk'][j][:,1]\n",
    "    # pc3=f1['compartment_bulk'][j][:,2]\n",
    "    df=pd.DataFrame()\n",
    "    df['chr']=data['chrom']\n",
    "    df['start']=data['start']\n",
    "    df['end']=data['end']\n",
    "    df['index']=data['end'].map(lambda x: str(int(x)//250000 ))\n",
    "    df['pc1']=pc1\n",
    "    df['pc2']=pc1\n",
    "    for chr in tqdm(chrom_list):\n",
    "        chr_path=path+'/'+chr+'.pc.txt'\n",
    "        df[df['chr'] == chr].to_csv(chr_path, sep='\\t', index=None, header=True, mode='a')\n",
    "    print(\"写入完成：\",j)"
   ]
  },
  {
   "cell_type": "code",
   "execution_count": 4,
   "metadata": {},
   "outputs": [],
   "source": [
    "list(set(cell_type))\n",
    "input_config=pd.DataFrame()\n",
    "input_config[0]=[cell+'.matrix' for cell in list(set(cell_type))]\n",
    "input_config[1]=['./Data/hg19_250k_abs.bed']*len(list(set(cell_type)))\n",
    "input_config[2]=list(set(cell_type))\n",
    "input_config[3]=list(set(cell_type))\n",
    "\n",
    "input_path = '/home/dchic/dcHiC/snm3c250k/input_dchic.txt'\n",
    "\n",
    "input_config.to_csv(input_path, sep='\\t', index=None, header=False)\n",
    "\n",
    "\n",
    "\n",
    "\n"
   ]
  },
  {
   "cell_type": "code",
   "execution_count": null,
   "metadata": {},
   "outputs": [],
   "source": []
  },
  {
   "cell_type": "code",
   "execution_count": null,
   "metadata": {},
   "outputs": [],
   "source": []
  }
 ],
 "metadata": {
  "kernelspec": {
   "display_name": "hic",
   "language": "python",
   "name": "python3"
  },
  "language_info": {
   "codemirror_mode": {
    "name": "ipython",
    "version": 3
   },
   "file_extension": ".py",
   "mimetype": "text/x-python",
   "name": "python",
   "nbconvert_exporter": "python",
   "pygments_lexer": "ipython3",
   "version": "3.9.0"
  }
 },
 "nbformat": 4,
 "nbformat_minor": 2
}
