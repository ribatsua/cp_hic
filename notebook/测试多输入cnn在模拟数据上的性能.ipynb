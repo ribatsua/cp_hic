{
 "cells": [
  {
   "cell_type": "code",
   "execution_count": null,
   "metadata": {},
   "outputs": [],
   "source": [
    "# Deep Neural Networks:\n",
    "import tensorflow as tf; print('We\\'re using TF-{}.'.format(tf.__version__))\n",
    "# import keras; print('We\\'re using Keras-{}.'.format(keras.__version__))\n",
    "from keras.layers import (Input, Dense, Dropout, Flatten, BatchNormalization,\n",
    "                                     Conv1D, Conv2D, MaxPooling1D, MaxPooling2D,\n",
    "                                     LSTM, GRU, Embedding, Bidirectional, Concatenate)\n",
    "from keras.regularizers import (l1, l2, l1_l2)\n",
    "from keras.optimizers import (RMSprop, Adam, SGD)\n",
    "from keras.models import (Sequential, Model)\n",
    "\n",
    "# Core:\n",
    "import numpy as np\n",
    "import pandas as pd\n",
    "import matplotlib.pyplot as plt\n",
    "from scipy import interp\n",
    "import matplotlib.patches as patches\n",
    "\n",
    "# Performance:\n",
    "from sklearn.metrics import (confusion_matrix, classification_report, matthews_corrcoef, precision_score, roc_curve, auc)\n",
    "from sklearn.model_selection import (StratifiedKFold, KFold, train_test_split)\n",
    "#Utilities:\n",
    "from keras.callbacks import EarlyStopping, ModelCheckpoint\n",
    "from keras.utils import to_categorical as labelEncoding\n",
    "from keras.utils import plot_model  \n",
    "\n",
    "def Network(input_shapes):\n",
    "    inputs = []\n",
    "    heads = []\n",
    "\n",
    "    # Create input layers for each head\n",
    "    for input_shape in input_shapes:\n",
    "        input_layer = Input(shape=input_shape)\n",
    "        inputs.append(input_layer)\n",
    "\n",
    "        x = Conv1D(filters=16, kernel_size=3, activation='relu')(input_layer)\n",
    "        x = MaxPooling1D(2)(x)\n",
    "        x = Conv1D(filters=8, kernel_size=3, activation='relu')(x)\n",
    "        x = MaxPooling1D(2)(x)\n",
    "        head = Flatten()(x)\n",
    "        heads.append(head)\n",
    "\n",
    "    # Concatenate all heads\n",
    "    merge = Concatenate()(heads)\n",
    "\n",
    "    output = Dense(units=2, activation='softmax')(merge)\n",
    "    return Model(inputs=inputs, outputs=output)"
   ]
  },
  {
   "cell_type": "code",
   "execution_count": null,
   "metadata": {},
   "outputs": [],
   "source": []
  }
 ],
 "metadata": {
  "kernelspec": {
   "display_name": "hic",
   "language": "python",
   "name": "python3"
  },
  "language_info": {
   "name": "python",
   "version": "3.9.0"
  }
 },
 "nbformat": 4,
 "nbformat_minor": 2
}
