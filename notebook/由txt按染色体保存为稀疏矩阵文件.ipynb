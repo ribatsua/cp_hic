{
 "cells": [
  {
   "cell_type": "code",
   "execution_count": 2,
   "metadata": {},
   "outputs": [
    {
     "name": "stderr",
     "output_type": "stream",
     "text": [
      "Processing chr1: 100%|██████████| 1171/1171 [00:24<00:00, 47.30it/s]\n"
     ]
    },
    {
     "name": "stdout",
     "output_type": "stream",
     "text": [
      "chr1 finished\n"
     ]
    },
    {
     "name": "stderr",
     "output_type": "stream",
     "text": [
      "Processing chr2: 100%|██████████| 1171/1171 [00:23<00:00, 50.62it/s]\n"
     ]
    },
    {
     "name": "stdout",
     "output_type": "stream",
     "text": [
      "chr2 finished\n"
     ]
    },
    {
     "name": "stderr",
     "output_type": "stream",
     "text": [
      "Processing chr3: 100%|██████████| 1171/1171 [00:20<00:00, 57.46it/s]\n"
     ]
    },
    {
     "name": "stdout",
     "output_type": "stream",
     "text": [
      "chr3 finished\n"
     ]
    },
    {
     "name": "stderr",
     "output_type": "stream",
     "text": [
      "Processing chr4: 100%|██████████| 1171/1171 [00:18<00:00, 64.87it/s]\n"
     ]
    },
    {
     "name": "stdout",
     "output_type": "stream",
     "text": [
      "chr4 finished\n"
     ]
    },
    {
     "name": "stderr",
     "output_type": "stream",
     "text": [
      "Processing chr5: 100%|██████████| 1171/1171 [00:18<00:00, 63.42it/s]\n"
     ]
    },
    {
     "name": "stdout",
     "output_type": "stream",
     "text": [
      "chr5 finished\n"
     ]
    },
    {
     "name": "stderr",
     "output_type": "stream",
     "text": [
      "Processing chr6: 100%|██████████| 1171/1171 [00:18<00:00, 63.55it/s]\n"
     ]
    },
    {
     "name": "stdout",
     "output_type": "stream",
     "text": [
      "chr6 finished\n"
     ]
    },
    {
     "name": "stderr",
     "output_type": "stream",
     "text": [
      "Processing chr7: 100%|██████████| 1171/1171 [00:16<00:00, 72.91it/s]\n"
     ]
    },
    {
     "name": "stdout",
     "output_type": "stream",
     "text": [
      "chr7 finished\n"
     ]
    },
    {
     "name": "stderr",
     "output_type": "stream",
     "text": [
      "Processing chr8: 100%|██████████| 1171/1171 [00:16<00:00, 69.06it/s]\n"
     ]
    },
    {
     "name": "stdout",
     "output_type": "stream",
     "text": [
      "chr8 finished\n"
     ]
    },
    {
     "name": "stderr",
     "output_type": "stream",
     "text": [
      "Processing chr9: 100%|██████████| 1171/1171 [00:15<00:00, 75.98it/s]\n"
     ]
    },
    {
     "name": "stdout",
     "output_type": "stream",
     "text": [
      "chr9 finished\n"
     ]
    },
    {
     "name": "stderr",
     "output_type": "stream",
     "text": [
      "Processing chr10: 100%|██████████| 1171/1171 [00:16<00:00, 71.30it/s]\n"
     ]
    },
    {
     "name": "stdout",
     "output_type": "stream",
     "text": [
      "chr10 finished\n"
     ]
    },
    {
     "name": "stderr",
     "output_type": "stream",
     "text": [
      "Processing chr11: 100%|██████████| 1171/1171 [00:15<00:00, 77.99it/s]\n"
     ]
    },
    {
     "name": "stdout",
     "output_type": "stream",
     "text": [
      "chr11 finished\n"
     ]
    },
    {
     "name": "stderr",
     "output_type": "stream",
     "text": [
      "Processing chr12: 100%|██████████| 1171/1171 [00:14<00:00, 81.23it/s]\n"
     ]
    },
    {
     "name": "stdout",
     "output_type": "stream",
     "text": [
      "chr12 finished\n"
     ]
    },
    {
     "name": "stderr",
     "output_type": "stream",
     "text": [
      "Processing chr13: 100%|██████████| 1171/1171 [00:14<00:00, 81.96it/s]\n"
     ]
    },
    {
     "name": "stdout",
     "output_type": "stream",
     "text": [
      "chr13 finished\n"
     ]
    },
    {
     "name": "stderr",
     "output_type": "stream",
     "text": [
      "Processing chr14: 100%|██████████| 1171/1171 [00:14<00:00, 83.44it/s]\n"
     ]
    },
    {
     "name": "stdout",
     "output_type": "stream",
     "text": [
      "chr14 finished\n"
     ]
    },
    {
     "name": "stderr",
     "output_type": "stream",
     "text": [
      "Processing chr15: 100%|██████████| 1171/1171 [00:12<00:00, 91.57it/s]\n"
     ]
    },
    {
     "name": "stdout",
     "output_type": "stream",
     "text": [
      "chr15 finished\n"
     ]
    },
    {
     "name": "stderr",
     "output_type": "stream",
     "text": [
      "Processing chr16: 100%|██████████| 1171/1171 [00:12<00:00, 95.73it/s] \n"
     ]
    },
    {
     "name": "stdout",
     "output_type": "stream",
     "text": [
      "chr16 finished\n"
     ]
    },
    {
     "name": "stderr",
     "output_type": "stream",
     "text": [
      "Processing chr17: 100%|██████████| 1171/1171 [00:10<00:00, 110.52it/s]\n"
     ]
    },
    {
     "name": "stdout",
     "output_type": "stream",
     "text": [
      "chr17 finished\n"
     ]
    },
    {
     "name": "stderr",
     "output_type": "stream",
     "text": [
      "Processing chr18: 100%|██████████| 1171/1171 [00:11<00:00, 104.15it/s]\n"
     ]
    },
    {
     "name": "stdout",
     "output_type": "stream",
     "text": [
      "chr18 finished\n"
     ]
    },
    {
     "name": "stderr",
     "output_type": "stream",
     "text": [
      "Processing chr19: 100%|██████████| 1171/1171 [00:07<00:00, 164.27it/s]\n"
     ]
    },
    {
     "name": "stdout",
     "output_type": "stream",
     "text": [
      "chr19 finished\n"
     ]
    },
    {
     "name": "stderr",
     "output_type": "stream",
     "text": [
      "Processing chrX: 100%|██████████| 1171/1171 [00:16<00:00, 69.69it/s]\n"
     ]
    },
    {
     "name": "stdout",
     "output_type": "stream",
     "text": [
      "chrX finished\n"
     ]
    }
   ],
   "source": [
    "#不使用higashi直接由txt文件列表得到数据集按染色体存储的稀疏矩阵文件\n",
    "import numpy as np\n",
    "import os\n",
    "from scipy.sparse import csr_matrix\n",
    "from tqdm import tqdm\n",
    "import math\n",
    "\n",
    "# def sort_key(path):\n",
    "#     # 获取路径中的数字部分作为排序关键字\n",
    "#     return [int(part) if part.isdigit() else part for part in path.split('_')]\n",
    "#计算每条染色体在分辨率res下划分的bin的数量\n",
    "def create_bed(res):\n",
    "    file_path=genome_reference_path\n",
    "    # file_path = '/home/python/higashi/cellcycle/250k/config/mm9.chrom.sizes.txt'  \n",
    "    with open(file_path, 'r') as file:\n",
    "        lines = file.readlines()\n",
    "    chromosome_bins = {}\n",
    "    # 特定分辨率\n",
    "    resolution = res # 请替换成你的分辨率\n",
    "    # 遍历文件中的每一行\n",
    "    for line in lines:\n",
    "        # 分割每一行的染色体和对应的长度\n",
    "        chromosome, length = line.strip().split('\\t')    \n",
    "        # 计算染色体对应的bin数量\n",
    "        # bin_count = int(length) // resolution\n",
    "        bin_count = math.ceil(int(length) / resolution)\n",
    "        \n",
    "        # 存储结果到字典中\n",
    "        chromosome_bins[chromosome] = bin_count\n",
    "    return chromosome_bins\n",
    "def sort_key(path):\n",
    "    # 先使用斜杠分割路径，然后使用下划线分割每个部分，获取数字作为排序关键字\n",
    "    parts = []\n",
    "    for part in path.split('/'):\n",
    "        parts.extend(part.split('_'))\n",
    "    return [int(part) if part.isdigit() else part for part in parts]\n",
    "#获取数据集根目录下所以chrom命名的txt文件并返回排序后的文件列表\n",
    "def find_file(folder_path):\n",
    "    file_path=[]\n",
    "    for root, dirs, files in os.walk(folder_path):\n",
    "            for file in files:\n",
    "                if file.endswith('.txt') and chrom == file.split(\".\")[0].split(\"_\")[-1]: #添加.split(\"_\")[-1]后通用于以cell_1_chr1.txt命名文件\n",
    "                # if file.endswith('.txt'):\n",
    "                    file_path.append(os.path.join(root, file))\n",
    "    sorted_paths = sorted(file_path, key=sort_key)\n",
    "    return sorted_paths\n",
    "#按染色体获取的排序后的文件列表文件逐个转换成稀疏矩阵格式添加到列表中，最后将列表保存为一个按染色体命名的npy文件\n",
    "def txt_to_sparse(folder_path,chrom):\n",
    "    #初始化要写入文件的列表为空防止重复写入\n",
    "    sparse_matrices_list=[]\n",
    "    paths=find_file(folder_path)\n",
    "    chromosome_bins=create_bed(res)\n",
    "    bin_count = chromosome_bins[chrom]\n",
    " \n",
    "    #添加进度条显示处理样本进度\n",
    "    for path in tqdm(paths,desc=\"Processing %s\"%chrom):\n",
    "        with open(path, 'r') as f:\n",
    "            lines = f.readlines()\n",
    "        rows = []\n",
    "        cols = []\n",
    "        values = []\n",
    "        for line in lines:\n",
    "            # row, col, value = map(float, line.split())\n",
    "            row, col, value = map(lambda x: int(x) if '.' not in x else float(x), line.split())#将行列索引转换成整数\n",
    "            rows.append(row)\n",
    "            cols.append(col)\n",
    "            values.append(value)\n",
    "        # sparse_matrix_csr = csr_matrix((values, (rows, cols)), shape=(max(rows)+1, max(cols)+1), dtype=np.float32)\n",
    "        sparse_matrix_csr = csr_matrix((values, (rows, cols)), shape=(bin_count, bin_count), dtype=np.float32)#统一稀疏矩阵形状为bin数量\n",
    "        sparse_matrices_list.append(sparse_matrix_csr)\n",
    "    np.save(os.path.join(output_dir,'%s_sparse_adj.npy'% chrom), sparse_matrices_list)\n",
    "    print (chrom, \"finished\")\n",
    "\n",
    "###############################cellcycle数据集########################################\n",
    "# #数据集全部稀疏矩阵txt文件根目录\n",
    "# folder_path='/home/python/higashi/cellcycle/250k/HiClusterInput'\n",
    "# #基因组参考文件地址\n",
    "# genome_reference_path='/home/python/higashi/cellcycle/250k/config/mm9.chrom.sizes.txt'\n",
    "# #存放输出结果路径\n",
    "# output_dir='/home/python/higashi/cellcycle/250k/raw'\n",
    "###############################cellcycle数据集########################################\n",
    "\n",
    "###############################cortex数据集########################################\n",
    "#数据集全部稀疏矩阵txt文件根目录\n",
    "folder_path='/home/dataset/cellcycle/sparse_input/250k/HiClusterInput'\n",
    "#存放输出结果路径\n",
    "output_dir='/home/dataset/cellcycle/sparse_input/250k/raw'\n",
    "genome_reference_path='/home/annotation/mm9/mm9.chrom.sizes'\n",
    "###############################cortex数据集########################################\n",
    "\n",
    "\n",
    "\n",
    "chrom_list = [\"chr1\",\"chr2\",\"chr3\",\"chr4\",\"chr5\",\n",
    "    \"chr6\",\"chr7\",\"chr8\",\"chr9\",\"chr10\",\n",
    "    \"chr11\",\"chr12\",\"chr13\",\"chr14\",\"chr15\",\n",
    "    \"chr16\",\"chr17\",\"chr18\",\"chr19\",\"chrX\"]\n",
    "chrom_list = np.array(chrom_list)\n",
    "res=250000\n",
    "\n",
    "for chrom in chrom_list:\n",
    "    txt_to_sparse(folder_path,chrom)"
   ]
  }
 ],
 "metadata": {
  "kernelspec": {
   "display_name": "hic",
   "language": "python",
   "name": "python3"
  },
  "language_info": {
   "codemirror_mode": {
    "name": "ipython",
    "version": 3
   },
   "file_extension": ".py",
   "mimetype": "text/x-python",
   "name": "python",
   "nbconvert_exporter": "python",
   "pygments_lexer": "ipython3",
   "version": "3.9.0"
  }
 },
 "nbformat": 4,
 "nbformat_minor": 2
}
